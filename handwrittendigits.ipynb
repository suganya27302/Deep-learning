{
  "nbformat": 4,
  "nbformat_minor": 0,
  "metadata": {
    "kernelspec": {
      "language": "python",
      "display_name": "Python 3",
      "name": "python3"
    },
    "language_info": {
      "pygments_lexer": "ipython3",
      "nbconvert_exporter": "python",
      "version": "3.6.4",
      "file_extension": ".py",
      "codemirror_mode": {
        "name": "ipython",
        "version": 3
      },
      "name": "python",
      "mimetype": "text/x-python"
    },
    "colab": {
      "name": "handwrittendigits.ipynb",
      "provenance": [],
      "include_colab_link": true
    }
  },
  "cells": [
    {
      "cell_type": "markdown",
      "metadata": {
        "id": "view-in-github",
        "colab_type": "text"
      },
      "source": [
        "<a href=\"https://colab.research.google.com/github/suganya27302/Deep-learning/blob/main/handwrittendigits.ipynb\" target=\"_parent\"><img src=\"https://colab.research.google.com/assets/colab-badge.svg\" alt=\"Open In Colab\"/></a>"
      ]
    },
    {
      "cell_type": "code",
      "metadata": {
        "trusted": true,
        "id": "qjjdRxPyBHoh"
      },
      "source": [
        "import os\n",
        "os.listdir('../input/handwritten-digits')"
      ],
      "execution_count": null,
      "outputs": []
    },
    {
      "cell_type": "code",
      "metadata": {
        "trusted": true,
        "id": "U9LYmv4NBHoj"
      },
      "source": [
        "loc0 = '../input/handwritten-digits/digit_0'\n",
        "loc1 = '../input/handwritten-digits/digit_1'\n",
        "loc2 = '../input/handwritten-digits/digit_2'\n",
        "loc3 = '../input/handwritten-digits/digit_3'\n",
        "loc4 = '../input/handwritten-digits/digit_4'\n",
        "loc5 = '../input/handwritten-digits/digit_5'\n",
        "loc6 = '../input/handwritten-digits/digit_6'\n",
        "loc7 = '../input/handwritten-digits/digit_7'\n",
        "loc8 = '../input/handwritten-digits/digit_8'\n",
        "loc9 = '../input/handwritten-digits/digit_9'"
      ],
      "execution_count": null,
      "outputs": []
    },
    {
      "cell_type": "code",
      "metadata": {
        "trusted": true,
        "id": "MpRJzH6YBHok"
      },
      "source": [
        "from tqdm import tqdm\n",
        "import cv2\n",
        "\n",
        "#Extract Features\n",
        "\n",
        "features = []\n",
        "\n",
        "for i in tqdm(os.listdir(loc0)):\n",
        "    f = cv2.imread(os.path.join(loc0,i),0)\n",
        "    fr = cv2.resize(f,(50,50))\n",
        "    features.append(fr)\n",
        "    \n",
        "for i in tqdm(os.listdir(loc1)):\n",
        "    f = cv2.imread(os.path.join(loc1,i),0)\n",
        "    fr = cv2.resize(f,(50,50))\n",
        "    features.append(fr)\n",
        "    \n",
        "for i in tqdm(os.listdir(loc2)):\n",
        "    f = cv2.imread(os.path.join(loc2,i),0)\n",
        "    fr = cv2.resize(f,(50,50))\n",
        "    features.append(fr)\n",
        "    \n",
        "for i in tqdm(os.listdir(loc3)):\n",
        "    f = cv2.imread(os.path.join(loc3,i),0)\n",
        "    fr = cv2.resize(f,(50,50))\n",
        "    features.append(fr)\n",
        "    \n",
        "for i in tqdm(os.listdir(loc4)):\n",
        "    f = cv2.imread(os.path.join(loc4,i),0)\n",
        "    fr = cv2.resize(f,(50,50))\n",
        "    features.append(fr)\n",
        "    \n",
        "for i in tqdm(os.listdir(loc5)):\n",
        "    f = cv2.imread(os.path.join(loc5,i),0)\n",
        "    fr = cv2.resize(f,(50,50))\n",
        "    features.append(fr)\n",
        "    \n",
        "for i in tqdm(os.listdir(loc6)):\n",
        "    f = cv2.imread(os.path.join(loc6,i),0)\n",
        "    fr = cv2.resize(f,(50,50))\n",
        "    features.append(fr)\n",
        "    \n",
        "for i in tqdm(os.listdir(loc7)):\n",
        "    f = cv2.imread(os.path.join(loc7,i),0)\n",
        "    fr = cv2.resize(f,(50,50))\n",
        "    features.append(fr)\n",
        "    \n",
        "for i in tqdm(os.listdir(loc8)):\n",
        "    f = cv2.imread(os.path.join(loc8,i),0)\n",
        "    fr = cv2.resize(f,(50,50))\n",
        "    features.append(fr)\n",
        "    \n",
        "for i in tqdm(os.listdir(loc9)):\n",
        "    f = cv2.imread(os.path.join(loc9,i),0)\n",
        "    fr = cv2.resize(f,(50,50))\n",
        "    features.append(fr)"
      ],
      "execution_count": null,
      "outputs": []
    },
    {
      "cell_type": "code",
      "metadata": {
        "trusted": true,
        "id": "xp9VdwUpBHok"
      },
      "source": [
        "import numpy as np\n",
        "X = np.array(features)\n",
        "X.shape"
      ],
      "execution_count": null,
      "outputs": []
    },
    {
      "cell_type": "code",
      "metadata": {
        "trusted": true,
        "id": "YTHggsG0BHol"
      },
      "source": [
        "#Extract Labels\n",
        "\n",
        "labels = []\n",
        "\n",
        "for i in tqdm(os.listdir(loc0)):\n",
        "    labels.append(0)\n",
        "    \n",
        "for i in tqdm(os.listdir(loc1)):\n",
        "    labels.append(1)\n",
        "    \n",
        "for i in tqdm(os.listdir(loc2)):\n",
        "    labels.append(2)\n",
        "    \n",
        "for i in tqdm(os.listdir(loc3)):\n",
        "    labels.append(3)\n",
        "    \n",
        "for i in tqdm(os.listdir(loc4)):\n",
        "    labels.append(4)\n",
        "    \n",
        "for i in tqdm(os.listdir(loc5)):\n",
        "    labels.append(5)\n",
        "    \n",
        "for i in tqdm(os.listdir(loc6)):\n",
        "    labels.append(6)\n",
        "    \n",
        "for i in tqdm(os.listdir(loc7)):\n",
        "    labels.append(7)\n",
        "    \n",
        "for i in tqdm(os.listdir(loc8)):\n",
        "    labels.append(8)\n",
        "    \n",
        "for i in tqdm(os.listdir(loc9)):\n",
        "    labels.append(9)"
      ],
      "execution_count": null,
      "outputs": []
    },
    {
      "cell_type": "code",
      "metadata": {
        "trusted": true,
        "id": "77nnyTTMBHol"
      },
      "source": [
        "Y = np.array(labels)\n",
        "Y.shape"
      ],
      "execution_count": null,
      "outputs": []
    },
    {
      "cell_type": "code",
      "metadata": {
        "trusted": true,
        "id": "q0C9PL3PBHol"
      },
      "source": [
        "import pandas as pd\n",
        "\n",
        "Ft = pd.DataFrame(X.reshape(6837,2500))\n",
        "Lt = pd.DataFrame(Y.reshape(6837,1),columns=['Labels'])\n",
        "\n",
        "digits = pd.concat((Lt,Ft),axis='columns')\n",
        "\n",
        "digits.to_csv('digits.csv')"
      ],
      "execution_count": null,
      "outputs": []
    },
    {
      "cell_type": "code",
      "metadata": {
        "trusted": true,
        "id": "t_nVtihiBHom"
      },
      "source": [
        "Xt = Ft.values\n",
        "Yt = Lt.values"
      ],
      "execution_count": null,
      "outputs": []
    },
    {
      "cell_type": "code",
      "metadata": {
        "trusted": true,
        "id": "FKyHXaINBHom"
      },
      "source": [
        "from sklearn.model_selection import train_test_split\n",
        "xtrain,xtest,ytrain,ytest = train_test_split(Xt,Yt)"
      ],
      "execution_count": null,
      "outputs": []
    },
    {
      "cell_type": "code",
      "metadata": {
        "trusted": true,
        "id": "Gk9RXuugBHom"
      },
      "source": [
        "from sklearn.ensemble import RandomForestClassifier\n",
        "rmodel = RandomForestClassifier(max_depth=20)"
      ],
      "execution_count": null,
      "outputs": []
    },
    {
      "cell_type": "code",
      "metadata": {
        "trusted": true,
        "id": "iMVY4GOABHon"
      },
      "source": [
        "rmodel.fit(xtrain,ytrain)"
      ],
      "execution_count": null,
      "outputs": []
    },
    {
      "cell_type": "code",
      "metadata": {
        "trusted": true,
        "id": "NWbT9UZbBHon"
      },
      "source": [
        "print(rmodel.score(xtrain,ytrain))\n",
        "print(rmodel.score(xtest,ytest))"
      ],
      "execution_count": null,
      "outputs": []
    },
    {
      "cell_type": "markdown",
      "metadata": {
        "id": "UYwaVFMeBHon"
      },
      "source": [
        "#Neural Network"
      ]
    },
    {
      "cell_type": "code",
      "metadata": {
        "trusted": true,
        "id": "vhiN46HWBHon"
      },
      "source": [
        "from keras import models\n",
        "from keras import layers"
      ],
      "execution_count": null,
      "outputs": []
    },
    {
      "cell_type": "code",
      "metadata": {
        "trusted": true,
        "id": "LxCygx3kBHoo"
      },
      "source": [
        "model = models.Sequential()\n",
        "model.add(layers.Dense(256 , activation='relu' , input_dim=xtrain.shape[1]))\n",
        "model.add(layers.Dropout(0.3))\n",
        "model.add(layers.Dense(128 , activation='relu'))\n",
        "model.add(layers.Dropout(0.2))\n",
        "model.add(layers.Dense(256 , activation='relu'))\n",
        "model.add(layers.Dropout(0.2))\n",
        "model.add(layers.Dense(10 , activation='softmax'))"
      ],
      "execution_count": null,
      "outputs": []
    },
    {
      "cell_type": "code",
      "metadata": {
        "trusted": true,
        "id": "DkQrNEjyBHoo"
      },
      "source": [
        "model.summary()"
      ],
      "execution_count": null,
      "outputs": []
    },
    {
      "cell_type": "code",
      "metadata": {
        "trusted": true,
        "id": "K-l7p_NgBHoo"
      },
      "source": [
        "from keras import optimizers\n",
        "from keras import metrics"
      ],
      "execution_count": null,
      "outputs": []
    },
    {
      "cell_type": "code",
      "metadata": {
        "trusted": true,
        "id": "poC3QZ9-BHoo"
      },
      "source": [
        "model.compile(optimizer='sgd',\n",
        "              loss = 'categorical_crossentropy',\n",
        "              metrics=['accuracy'])"
      ],
      "execution_count": null,
      "outputs": []
    },
    {
      "cell_type": "code",
      "metadata": {
        "trusted": true,
        "id": "rJfO7tDsBHoo"
      },
      "source": [
        "# 0 - [1 0 0 0 0 0 0 0 0 0]\n",
        "# 1 - [0 1 0 0 0 0 0 0 0 0]\n",
        "# 2 - [0 0 1 0 0 0 0 0 0 0]\n",
        "from sklearn.model_selection import train_test_split\n",
        "xtrain,xtest,ytrain,ytest = train_test_split(Xt,Yt)\n",
        "\n",
        "from keras.utils import np_utils\n",
        "ytrain_h = np_utils.to_categorical(ytrain)"
      ],
      "execution_count": null,
      "outputs": []
    },
    {
      "cell_type": "code",
      "metadata": {
        "trusted": true,
        "id": "9YoyGOEqBHop"
      },
      "source": [
        "xtrain_n = xtrain/xtrain.max()"
      ],
      "execution_count": null,
      "outputs": []
    },
    {
      "cell_type": "code",
      "metadata": {
        "trusted": true,
        "id": "ms1BQ2xtBHop"
      },
      "source": [
        "xtest_n = xtest/xtest.max()\n",
        "ytest_h = np_utils.to_categorical(ytest)"
      ],
      "execution_count": null,
      "outputs": []
    },
    {
      "cell_type": "code",
      "metadata": {
        "trusted": true,
        "id": "cAyBXMcCBHop"
      },
      "source": [
        "model.fit(xtrain_n,ytrain_h,epochs=100,validation_data = (xtest_n,ytest_h))"
      ],
      "execution_count": null,
      "outputs": []
    },
    {
      "cell_type": "code",
      "metadata": {
        "trusted": true,
        "id": "6fppRyCwBHop"
      },
      "source": [
        "\n",
        "print(model.evaluate(xtrain_n,ytrain_h))\n",
        "print(model.evaluate(xtest_n,ytest_h))"
      ],
      "execution_count": null,
      "outputs": []
    },
    {
      "cell_type": "code",
      "metadata": {
        "trusted": true,
        "id": "IpKclLNgBHop"
      },
      "source": [
        "xtrain[56]"
      ],
      "execution_count": null,
      "outputs": []
    },
    {
      "cell_type": "code",
      "metadata": {
        "trusted": true,
        "id": "7ICHdPbABHop"
      },
      "source": [
        "xtrain_n[56]"
      ],
      "execution_count": null,
      "outputs": []
    },
    {
      "cell_type": "code",
      "metadata": {
        "trusted": true,
        "id": "uZ4lF5D4BHoq"
      },
      "source": [
        "import matplotlib.pyplot as plt\n",
        "plt.imshow(xtrain[56].reshape(50,50))\n",
        "plt.show()"
      ],
      "execution_count": null,
      "outputs": []
    },
    {
      "cell_type": "code",
      "metadata": {
        "trusted": true,
        "id": "8NJKOIeuBHoq"
      },
      "source": [
        "import matplotlib.pyplot as plt\n",
        "plt.imshow(xtrain_n[56].reshape(50,50))\n",
        "plt.show()"
      ],
      "execution_count": null,
      "outputs": []
    },
    {
      "cell_type": "code",
      "metadata": {
        "trusted": true,
        "id": "bLcs8qgFBHoq"
      },
      "source": [
        "2/8,3/8,6/8,7/8,8/8"
      ],
      "execution_count": null,
      "outputs": []
    }
  ]
}